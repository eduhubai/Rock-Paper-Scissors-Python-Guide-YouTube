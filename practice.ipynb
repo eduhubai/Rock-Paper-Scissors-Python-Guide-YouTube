{
 "cells": [
  {
   "cell_type": "markdown",
   "metadata": {},
   "source": [
    "# Python Concepts and Practice\n",
    "\n",
    "This notebook covers various Python concepts with practice examples."
   ]
  },
  {
   "cell_type": "markdown",
   "metadata": {},
   "source": [
    "## Section 1: Printing in Python\n",
    "\n",
    "Let's start with the basics: printing to the console using the `print()` function."
   ]
  },
  {
   "cell_type": "code",
   "metadata": {},
   "source": [
    "print(\"Hello, World!\")"
   ],
   "execution_count": null,
   "outputs": []
  },
  {
   "cell_type": "markdown",
   "metadata": {},
   "source": [
    "## Section 2: Multi-line Printing\n",
    "\n",
    "You can print multiple lines of text using triple quotes. This is useful for printing blocks of text or ASCII art."
   ]
  },
  {
   "cell_type": "code",
   "metadata": {},
   "source": [
    "print(\"\"\"\n",
    "This is a multi-line\n",
    "print statement.\n",
    "Pretty cool, right?\n",
    "\"\"\")"
   ],
   "execution_count": null,
   "outputs": []
  },
  {
   "cell_type": "markdown",
   "metadata": {},
   "source": [
    "## Section 3: Variables in Python\n",
    "\n",
    "Variables are containers for storing data values. Let's look at different types of variables."
   ]
  },
  {
   "cell_type": "markdown",
   "metadata": {},
   "source": [
    "### String Variables\n",
    "String variables store text."
   ]
  },
  {
   "cell_type": "code",
   "metadata": {},
   "source": [
    "name = \"Alice\"\n",
    "print(name)"
   ],
   "execution_count": null,
   "outputs": []
  },
  {
   "cell_type": "markdown",
   "metadata": {},
   "source": [
    "### Integer Variables\n",
    "Integer variables store whole numbers."
   ]
  },
  {
   "cell_type": "code",
   "metadata": {},
   "source": [
    "age = 25\n",
    "print(age)"
   ],
   "execution_count": null,
   "outputs": []
  },
  {
   "cell_type": "code",
   "metadata": {},
   "source": [
    "age = 26\n",
    "print(age)"
   ],
   "execution_count": null,
   "outputs": []
  },
  {
   "cell_type": "markdown",
   "metadata": {},
   "source": [
    "### Boolean Variables\n",
    "Boolean variables store `True` or `False` values."
   ]
  },
  {
   "cell_type": "code",
   "metadata": {},
   "source": [
    "keep_playing = True\n",
    "print(keep_playing)"
   ],
   "execution_count": null,
   "outputs": []
  },
  {
   "cell_type": "markdown",
   "metadata": {},
   "source": [
    "When naming variables, remember:\n",
    "- Variable names must start with a letter or an underscore.\n",
    "- They can only contain letters, numbers, and underscores.\n",
    "- Variable names are case-sensitive.\n",
    "- No spaces or special characters."
   ]
  },
  {
   "cell_type": "markdown",
   "metadata": {},
   "source": [
    "## Section 4: Lists in Python\n",
    "\n",
    "Lists store multiple items in a single variable."
   ]
  },
  {
   "cell_type": "code",
   "metadata": {},
   "source": [
    "fruits = [\"apple\", \"banana\", \"cherry\"]\n",
    "print(fruits)"
   ],
   "execution_count": null,
   "outputs": []
  },
  {
   "cell_type": "code",
   "metadata": {},
   "source": [
    "print(fruits[0])\n",
    "print(fruits[1])"
   ],
   "execution_count": null,
   "outputs": []
  },
  {
   "cell_type": "markdown",
   "metadata": {},
   "source": [
    "## Section 5: User Input and String Methods\n",
    "\n",
    "Use the `input` function to get input from the user and string methods like `.lower()` to handle the input."
   ]
  },
  {
   "cell_type": "code",
   "metadata": {},
   "source": [
    "user_input = input(\"Enter something: \")\n",
    "print(\"You entered:\", user_input)"
   ],
   "execution_count": null,
   "outputs": []
  },
  {
   "cell_type": "code",
   "metadata": {},
   "source": [
    "user_input = input(\"Enter something: \").lower()\n",
    "print(\"You entered:\", user_input)"
   ],
   "execution_count": null,
   "outputs": []
  },
  {
   "cell_type": "markdown",
   "metadata": {},
   "source": [
    "## Section 6: String Formatting with f-strings\n",
    "\n",
    "String formatting allows you to insert variables into strings using `f-strings`."
   ]
  },
  {
   "cell_type": "code",
   "metadata": {},
   "source": [
    "name = \"Alice\"\n",
    "greeting = f\"Hello, {name}!\"\n",
    "print(greeting)"
   ],
   "execution_count": null,
   "outputs": []
  },
  {
   "cell_type": "markdown",
   "metadata": {},
   "source": [
    "## Section 7: What is a Library?\n",
    "\n",
    "A library in Python is a collection of pre-written code that you can use to perform common tasks, so you don't have to write everything from scratch."
   ]
  },
  {
   "cell_type": "markdown",
   "metadata": {},
   "source": [
    "## Section 8: Importing Libraries and Random Choices\n",
    "\n",
    "To use a library in Python, you need to import it. Let's import the `random` library and use the `random.choice()` function to make random choices."
   ]
  },
  {
   "cell_type": "code",
   "metadata": {},
   "source": [
    "import random\n",
    "options = ['rock', 'paper', 'scissors']\n",
    "computer_choice = random.choice(options)\n",
    "print(f\"The computer chooses: {computer_choice}\")"
   ],
   "execution_count": null,
   "outputs": []
  },
  {
   "cell_type": "markdown",
   "metadata": {},
   "source": [
    "## Section 9: Conditional Statements (if)\n",
    "\n",
    "Conditional statements perform different actions based on different conditions."
   ]
  },
  {
   "cell_type": "code",
   "metadata": {},
   "source": [
    "number = 10\n",
    "if number > 5:\n",
    "    print(\"Number is greater than 5\")"
   ],
   "execution_count": null,
   "outputs": []
  },
  {
   "cell_type": "markdown",
   "metadata": {},
   "source": [
    "## Section 10: Conditional Statements (if-else)\n",
    "\n",
    "The `else` block runs if the condition in the `if` statement is not true."
   ]
  },
  {
   "cell_type": "code",
   "metadata": {},
   "source": [
    "number = 10\n",
    "if number > 15:\n",
    "    print(\"Number is greater than 15\")\n",
    "else:\n",
    "    print(\"Number is not greater than 15\")"
   ],
   "execution_count": null,
   "outputs": []
  },
  {
   "cell_type": "markdown",
   "metadata": {},
   "source": [
    "## Section 11: Conditional Statements (if-elif-else)\n",
    "\n",
    "Use `elif` to check another condition if the previous `if` statement is not true."
   ]
  },
  {
   "cell_type": "code",
   "metadata": {},
   "source": [
    "number = 10\n",
    "if number > 15:\n",
    "    print(\"Number is greater than 15\")\n",
    "elif number > 5:\n",
    "    print(\"Number is greater than 5 but less than or equal to 15\")\n",
    "else:\n",
    "    print(\"Number is 5 or less\")"
   ],
   "execution_count": null,
   "outputs": []
  },
  {
   "cell_type": "markdown",
   "metadata": {},
   "source": [
    "## Section 12: Logical Operators (and, or, not)\n",
    "\n",
    "Logical operators `and`, `or`, and `not` help in combining conditional statements."
   ]
  },
  {
   "cell_type": "code",
   "metadata": {},
   "source": [
    "number = 10\n",
    "if number > 5 and number < 15:\n",
    "    print(\"Number is between 5 and 15\")\n",
    "\n",
    "if number < 5 or number > 8:\n",
    "    print(\"Number is either less than 5 or greater than 8\")\n",
    "\n",
    "if not number < 5:\n",
    "    print(\"Number is not less than 5\")"
   ],
   "execution_count": null,
   "outputs": []
  },
  {
   "cell_type": "markdown",
   "metadata": {},
   "source": [
    "## Section 13: Membership Operator (in)\n",
    "\n",
    "The `in` operator checks if a value is present in a sequence."
   ]
  },
  {
   "cell_type": "code",
   "metadata": {},
   "source": [
    "fruits = [\"apple\", \"banana\", \"cherry\"]\n",
    "if \"banana\" in fruits:\n",
    "    print(\"Banana is in the list of fruits\")"
   ],
   "execution_count": null,
   "outputs": []
  },
  {
   "cell_type": "markdown",
   "metadata": {},
   "source": [
    "## Section 14: Augmented Assignment Operator (+=)\n",
    "\n",
    "The `+=` operator adds a value to a variable and assigns the result to that variable."
   ]
  },
  {
   "cell_type": "code",
   "metadata": {},
   "source": [
    "score = 10\n",
    "score += 5\n",
    "print(score)  # Outputs: 15"
   ],
   "execution_count": null,
   "outputs": []
  },
  {
   "cell_type": "markdown",
   "metadata": {},
   "source": [
    "## Section 15: Looping with a for Loop in Reeborg's World (Hurdle 1)\n",
    "\n",
    "Loops allow you to repeat a block of code multiple times. Let's start with a for loop in Reeborg's World to understand how it works."
   ]
  },
  {
   "cell_type": "code",
   "metadata": {},
   "source": [
    "for _ in range(6):  # Adjust the number for the fixed number of hurdles\n",
    "    move()\n",
    "    turn_left()\n",
    "    move()\n",
    "    turn_right()\n",
    "    move()\n",
    "    turn_right()\n",
    "    move()\n",
    "    turn_left()"
   ],
   "execution_count": null,
   "outputs": []
  },
  {
   "cell_type": "markdown",
   "metadata": {},
   "source": [
    "## Section 16: Looping with a while Loop in Reeborg's World (Hurdle 2)\n",
    "\n",
    "Now, let's see how a while loop can be more helpful. In Hurdle 2, Reeborg has to jump over a variable number of hurdles until he reaches the goal."
   ]
  },
  {
   "cell_type": "code",
   "metadata": {},
   "source": [
    "while not at_goal():\n",
    "    if front_is_clear():\n",
    "        move()\n",
    "    else:\n",
    "        turn_left()\n",
    "        move()\n",
    "        turn_right()\n",
    "        move()\n",
    "        turn_right()\n",
    "        move()\n",
    "        turn_left()"
   ],
   "execution_count": null,
   "outputs": []
  }
 ],
 "metadata": {
  "kernelspec": {
   "display_name": "Python 3",
   "language": "python",
   "name": "python3"
  },
  "language_info": {
   "codemirror_mode": {
    "name": "ipython",
    "version": 3
   },
   "file_extension": ".py",
   "mimetype": "text/x-python",
   "name": "python",
   "nbconvert_exporter": "python",
   "pygments_lexer": "ipython3",
   "version": "3.8.5"
  }
 },
 "nbformat": 4,
 "nbformat_minor": 5
}
